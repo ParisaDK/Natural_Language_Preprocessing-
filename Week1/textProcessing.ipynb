# Correcting the mistake and using the appropriate method to write the notebook
import nbformat

# Create a new notebook
nb = nbformat.v4.new_notebook()

# Add a title and introduction
cells = [
    nbformat.v4.new_markdown_cell("# Summary of Important Libraries for Text Preprocessing"),
    nbformat.v4.new_markdown_cell("""
This Jupyter notebook provides a summary of important libraries used in text preprocessing, along with their functions and methods. This is a useful resource for data scientists and machine learning practitioners to understand and apply text preprocessing techniques effectively.
    """),
    nbformat.v4.new_markdown_cell("## 1. `re` Library"),
    nbformat.v4.new_markdown_cell("""
**Purpose:** Regular expression operations for pattern matching and text manipulation.

- **Functions and Methods:**
  - `re.findall(pattern, string)`: Finds all occurrences of the pattern in the string.
  - `re.search(pattern, string)`: Searches for the first occurrence of the pattern in the string.
  - `re.sub(pattern, repl, string)`: Replaces occurrences of the pattern in the string with `repl`.
    """),
    nbformat.v4.new_markdown_cell("## 2. `string` Library"),
    nbformat.v4.new_markdown_cell("""
**Purpose:** Provides a collection of string constants and utility functions.

- **Constants:**
  - `string.ascii_lowercase`: Lowercase letters (`abcdefghijklmnopqrstuvwxyz`).
  - `string.punctuation`: Punctuation characters (`!"#$%&'()*+,-./:;<=>?@[\]^_`{|}~`).

- **Functions and Methods:**
  - `string.translate(table)`: Translates characters in the string using a translation table.
  - `string.maketrans(x, y, z)`: Creates a translation table for use with `translate()`.
    """),
    nbformat.v4.new_markdown_cell("## 3. `nltk.corpus.stopwords` Module"),
    nbformat.v4.new_markdown_cell("""
**Purpose:** Provides lists of stop words for various languages.

- **Functions and Methods:**
  - `stopwords.words('language')`: Returns a list of stop words for the specified language.
    """),
    nbformat.v4.new_markdown_cell("## 4. `nltk.stem.PorterStemmer` Module"),
    nbformat.v4.new_markdown_cell("""
**Purpose:** Performs stemming to reduce words to their root form.

- **Functions and Methods:**
  - `PorterStemmer().stem(word)`: Stems the given word to its root form.
    """),
    nbformat.v4.new_markdown_cell("## 5. `nltk.tokenize.TweetTokenizer` Module"),
    nbformat.v4.new_markdown_cell("""
**Purpose:** Tokenizes text from social media posts like tweets.

- **Functions and Methods:**
  - `TweetTokenizer().tokenize(text)`: Tokenizes the given text into individual tokens.
    """),
    nbformat.v4.new_markdown_cell("## Example Usage"),
    nbformat.v4.new_code_cell("""
# Importing necessary libraries
import re
import string
from nltk.corpus import stopwords
from nltk.stem import PorterStemmer
from nltk.tokenize import TweetTokenizer

# Example text
text = "This is an example tweet! #example :)"

# Using re library to find all words starting with 'ex'
words_with_ex = re.findall(r'\\bex\\w+', text)
print(words_with_ex)  # Output: ['example', 'example']

# Using string library to remove punctuation
text_without_punctuation = text.translate(str.maketrans('', '', string.punctuation))
print(text_without_punctuation)  # Output: 'This is an example tweet example :)'

# Using stopwords to filter out common words
stop_words = set(stopwords.words('english'))
filtered_words = [word for word in text_without_punctuation.split() if word.lower() not in stop_words]
print(filtered_words)  # Output: ['example', 'tweet', 'example', ':)']

# Using PorterStemmer to stem words
stemmer = PorterStemmer()
stemmed_words = [stemmer.stem(word) for word in filtered_words]
print(stemmed_words)  # Output: ['exampl', 'tweet', 'exampl', ':)']

# Using TweetTokenizer to tokenize text
tokenizer = TweetTokenizer()
tokens = tokenizer.tokenize(text)
print(tokens)  # Output: ['This', 'is', 'an', 'example', 'tweet', '!', '#example', ':)']
    """)
]

# Add cells to the notebook
nb['cells'].extend(cells)

# Save the notebook
nb_path = "/mnt/data/Summary_of_Important_Libraries_for_Text_Preprocessing.ipynb"
with open(nb_path, 'w') as f:
    nbformat.write(nb, f)

nb_path
