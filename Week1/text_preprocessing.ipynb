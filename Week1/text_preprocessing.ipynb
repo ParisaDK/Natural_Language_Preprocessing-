{
 "cells": [
  {
   "cell_type": "markdown",
   "metadata": {},
   "source": [
    "# Overview of Text Preprocessing Techniques\n",
    "\n",
    "This Jupyter notebook provides a concise overview of essential text preprocessing techniques using Python libraries, including regular expression operations, punctuation removal, stopword filtering, stemming, and tokenization, specifically tailored for social media text data.\n",
    "\n",
    "## Libraries Used\n",
    "- `re`: Regular expression operations\n",
    "- `string`: String operations\n",
    "- `nltk.corpus.stopwords`: Stopword filtering\n",
    "- `nltk.stem.PorterStemmer`: Stemming\n",
    "- `nltk.tokenize.TweetTokenizer`: Tokenization\n",
    "\n",
    "## Example Usage\n",
    "The notebook includes an example that demonstrates:\n",
    "- Finding words that match a pattern using `re`\n",
    "- Removing punctuation using `string`\n",
    "- Filtering out stop words using `nltk.corpus.stopwords`\n",
    "- Stemming words using `nltk.stem.PorterStemmer`\n",
    "- Tokenizing text using `nltk.tokenize.TweetTokenizer`"
   ]
  },
  {
   "cell_type": "code",
   "execution_count": 6,
   "metadata": {},
   "outputs": [
    {
     "name": "stdout",
     "output_type": "stream",
     "text": [
      "['extra', 'example']\n",
      "I am reading a tweet which is making me happy and extra tired example \n",
      "['reading', 'tweet', 'making', 'happy', 'extra', 'tired', 'example']\n",
      "['read', 'tweet', 'make', 'happi', 'extra', 'tire', 'exampl']\n",
      "['I', 'am', 'reading', 'a', 'tweet', '!', 'which', 'is', 'making', 'me', 'happy', ',', 'and', 'extra', 'tired', '!', '#example', ':)']\n"
     ]
    }
   ],
   "source": [
    "# Importing necessary libraries\n",
    "import re\n",
    "import string\n",
    "from nltk.corpus import stopwords\n",
    "from nltk.stem import PorterStemmer\n",
    "from nltk.tokenize import TweetTokenizer\n",
    "\n",
    "# Example text\n",
    "text = \"I am reading a tweet! which is making me happy, and extra tired! #example :)\"\n",
    "\n",
    "# Using re library to find all words starting with 'ex'\n",
    "words_with_ex = re.findall(r'\\bex\\w+', text)\n",
    "print(words_with_ex)  # Output: ['extra', 'example']\n",
    "\n",
    "# Using string library to remove punctuation\n",
    "text_without_punctuation = text.translate(str.maketrans('', '', string.punctuation))\n",
    "print(text_without_punctuation)  # Output: 'I am reading a tweet which is making me happy and extra tired example'\n",
    "\n",
    "# Using stopwords to filter out common words\n",
    "stop_words = set(stopwords.words('english'))\n",
    "filtered_words = [word for word in text_without_punctuation.split() if word.lower() not in stop_words]\n",
    "print(filtered_words)  # Output: ['reading', 'tweet', 'making', 'happy', 'extra', 'tired', 'example']\n",
    "\n",
    "# Using PorterStemmer to stem words\n",
    "stemmer = PorterStemmer()\n",
    "stemmed_words = [stemmer.stem(word) for word in filtered_words]\n",
    "print(stemmed_words)  # Output: ['read', 'tweet', 'make', 'happi', 'extra', 'tire', 'exampl']\n",
    "\n",
    "# Using TweetTokenizer to tokenize text\n",
    "tokenizer = TweetTokenizer()\n",
    "tokens = tokenizer.tokenize(text)\n",
    "print(tokens)  \n",
    "# Output: ['I', 'am', 'reading', 'a', 'tweet', '!', 'which', 'is', 'making', 'me', 'happy', ',', 'and', 'extra', 'tired', '!', '#example', ':)']\n"
   ]
  }
 ],
 "metadata": {
  "kernelspec": {
   "display_name": "Python 3",
   "language": "python",
   "name": "python3"
  },
  "language_info": {
   "codemirror_mode": {
    "name": "ipython",
    "version": 3
   },
   "file_extension": ".py",
   "mimetype": "text/x-python",
   "name": "python",
   "nbconvert_exporter": "python",
   "pygments_lexer": "ipython3",
   "version": "3.7.6"
  }
 },
 "nbformat": 4,
 "nbformat_minor": 4
}
